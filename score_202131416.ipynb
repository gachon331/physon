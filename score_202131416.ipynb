{
 "cells": [
  {
   "cell_type": "code",
   "execution_count": null,
   "metadata": {},
   "outputs": [],
   "source": [
    "score1= int(input(\"1회차 성적 점수를 입력해주세요: \"))\n",
    "score2= int(input(\"2회차 성적 점수를 입력해주세요: \"))\n",
    "score3= int(input(\"3회차 성적 점수를 입력해주세요: \"))\n",
    "score4= int(input(\"4회차 성적 점수를 입력해주세요: \"))\n",
    "score5= int(input(\"5회차 성적 점수를 입력해주세요: \"))\n",
    "score6= int(input(\"6회차 성적 점수를 입력해주세요: \"))\n",
    "score7= int(input(\"7회차 성적 점수를 입력해주세요: \"))\n",
    "score8= int(input(\"8회차 성적 점수를 입력해주세요: \"))\n",
    "score9= int(input(\"9회차 성적 점수를 입력해주세요: \"))\n",
    "score10= int(input(\"10회차 성적 점수를 입력해주세요: \"))\n",
    "score11= int(input(\"11회차 성적 점수를 입력해주세요: \"))\n",
    "score12= int(input(\"12회차 성적 점수를 입력해주세요: \"))\n",
    "score13= int(input(\"13회차 성적 점수를 입력해주세요: \"))\n",
    "score14= int(input(\"14회차 성적 점수를 입력해주세요: \"))\n",
    "score15= int(input(\"15회차 성적 점수를 입력해주세요: \"))\n",
    "test1= int(input(\"중간고사 성적 점수를 입력해주세요: \"))\n",
    "test2= int(input(\"기말고사 성적 점수를 입력해주세요: \"))\n",
    "\n",
    "\n",
    "average = (score1+score2+score3+score4+score5+score6+score7+score8+score9+score10+score11+score12+score13+score14+score15)/15\n",
    "\n",
    "total = (average*0.4)+(test1*0.3)+(test2*0.3)\n",
    "\n",
    "if  100 >= total > 90:\n",
    "       grade = \"A\"\n",
    "elif 90 >= total > 80:\n",
    "        grade = \"B\"\n",
    "elif 80 >= total > 70:\n",
    "        grade = \"C\"\n",
    "elif 70 >= total > 60:\n",
    "        grade = \"D\"\n",
    "elif total <= 60:\n",
    "        grade = \"F\"\n",
    "\n",
    "        \n",
    "print(\"1~15회차 과제점수는 \", int(average*0.4), \"(반영비율 0.4)입니다.\")\n",
    "print(\"중간고사 점수는 \", int(test1*0.3), \"(반영비율 0.3)입니다.\")\n",
    "print(\"기말고사 점수는 \", int(test2*0.3), \"(반영비율 0.3)입니다.\")\n",
    "print(\"합게는 \", int(total), \"입니다.\")\n",
    "print(\"성적은 \", grade, \"입니다.\")"
   ]
  },
  {
   "cell_type": "code",
   "execution_count": null,
   "metadata": {},
   "outputs": [],
   "source": []
  },
  {
   "cell_type": "code",
   "execution_count": null,
   "metadata": {},
   "outputs": [],
   "source": []
  }
 ],
 "metadata": {
  "kernelspec": {
   "display_name": "Python 3",
   "language": "python",
   "name": "python3"
  },
  "language_info": {
   "codemirror_mode": {
    "name": "ipython",
    "version": 3
   },
   "file_extension": ".py",
   "mimetype": "text/x-python",
   "name": "python",
   "nbconvert_exporter": "python",
   "pygments_lexer": "ipython3",
   "version": "3.8.5"
  }
 },
 "nbformat": 4,
 "nbformat_minor": 4
}
